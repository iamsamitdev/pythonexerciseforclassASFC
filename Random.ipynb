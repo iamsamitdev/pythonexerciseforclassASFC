{
 "cells": [
  {
   "cell_type": "code",
   "execution_count": 27,
   "id": "b50918e1",
   "metadata": {},
   "outputs": [
    {
     "name": "stdout",
     "output_type": "stream",
     "text": [
      "a = 16\n",
      "b = 0.3137012556518409\n",
      "c = 9.098664794401252\n",
      "d = 1009\n"
     ]
    }
   ],
   "source": [
    "import random\n",
    "\n",
    "a = random.randint(1, 100)\n",
    "print('a =', a)\n",
    "\n",
    "b = random.random()\n",
    "print('b =', b)\n",
    "\n",
    "c = random.uniform(1, 10)\n",
    "print('c =', c)\n",
    "\n",
    "d = random.choice([7, 11, 101, 108, 1009])\n",
    "print('d =', d)"
   ]
  },
  {
   "cell_type": "code",
   "execution_count": 30,
   "id": "2e9b9ddf",
   "metadata": {},
   "outputs": [
    {
     "name": "stdout",
     "output_type": "stream",
     "text": [
      "Package              Version\n",
      "-------------------- -------\n",
      "argon2-cffi          21.3.0\n",
      "argon2-cffi-bindings 21.2.0\n",
      "asttokens            2.0.5\n",
      "attrs                21.4.0\n",
      "backcall             0.2.0\n",
      "black                21.12b0\n",
      "bleach               4.1.0\n",
      "cffi                 1.15.0\n",
      "click                8.0.3\n",
      "colorama             0.4.4\n",
      "debugpy              1.5.1\n",
      "decorator            5.1.1\n",
      "defusedxml           0.7.1\n",
      "entrypoints          0.3\n",
      "executing            0.8.2\n",
      "ipykernel            6.7.0\n",
      "ipython              8.0.1\n",
      "ipython-genutils     0.2.0\n",
      "ipywidgets           7.6.5\n",
      "jedi                 0.18.1\n",
      "Jinja2               3.0.3\n",
      "jsonschema           4.4.0\n",
      "jupyter              1.0.0\n",
      "jupyter-client       7.1.2\n",
      "jupyter-console      6.4.0\n",
      "jupyter-core         4.9.1\n",
      "jupyterlab-pygments  0.1.2\n",
      "jupyterlab-widgets   1.0.2\n",
      "MarkupSafe           2.0.1\n",
      "matplotlib-inline    0.1.3\n",
      "mistune              0.8.4\n",
      "mypy-extensions      0.4.3\n",
      "nbclient             0.5.10\n",
      "nbconvert            6.4.0\n",
      "nbformat             5.1.3\n",
      "nest-asyncio         1.5.4\n",
      "notebook             6.4.7\n",
      "packaging            21.3\n",
      "pandocfilters        1.5.0\n",
      "parso                0.8.3\n",
      "pathspec             0.9.0\n",
      "pickleshare          0.7.5\n",
      "pip                  21.3.1\n",
      "platformdirs         2.4.1\n",
      "prometheus-client    0.12.0\n",
      "prompt-toolkit       3.0.24\n",
      "pure-eval            0.2.2\n",
      "pycparser            2.21\n",
      "Pygments             2.11.2\n",
      "pyparsing            3.0.7\n",
      "pyrsistent           0.18.1\n",
      "python-dateutil      2.8.2\n",
      "pywin32              303\n",
      "pywinpty             1.1.6\n",
      "pyzmq                22.3.0\n",
      "qtconsole            5.2.2\n",
      "QtPy                 2.0.0\n",
      "Send2Trash           1.8.0\n",
      "setuptools           60.2.0\n",
      "six                  1.16.0\n",
      "stack-data           0.1.4\n",
      "terminado            0.12.1\n",
      "testpath             0.5.0\n",
      "tomli                1.2.3\n",
      "tornado              6.1\n",
      "traitlets            5.1.1\n",
      "typing_extensions    4.0.1\n",
      "wcwidth              0.2.5\n",
      "webencodings         0.5.1\n",
      "wheel                0.37.1\n",
      "widgetsnbextension   3.5.2\n",
      "Note: you may need to restart the kernel to use updated packages.\n"
     ]
    }
   ],
   "source": [
    "pip list"
   ]
  }
 ],
 "metadata": {
  "kernelspec": {
   "display_name": "Python 3 (ipykernel)",
   "language": "python",
   "name": "python3"
  },
  "language_info": {
   "codemirror_mode": {
    "name": "ipython",
    "version": 3
   },
   "file_extension": ".py",
   "mimetype": "text/x-python",
   "name": "python",
   "nbconvert_exporter": "python",
   "pygments_lexer": "ipython3",
   "version": "3.10.0"
  }
 },
 "nbformat": 4,
 "nbformat_minor": 5
}
