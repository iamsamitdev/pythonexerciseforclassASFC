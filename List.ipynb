{
 "cells": [
  {
   "cell_type": "code",
   "execution_count": 1,
   "id": "4c8c6504",
   "metadata": {},
   "outputs": [
    {
     "data": {
      "text/plain": [
       "[1, True, 'Three', 4.5]"
      ]
     },
     "metadata": {},
     "output_type": "display_data"
    },
    {
     "name": "stdout",
     "output_type": "stream",
     "text": [
      "1  2.3  4  555  6.7  "
     ]
    }
   ],
   "source": [
    "a = [1, True, 'Three', 4.5]\n",
    "display(a)\n",
    "\n",
    "b = [1, 2.3, 4, 555, 6.7]\n",
    "for x in b:\n",
    "    print(x, ' ', end='')"
   ]
  }
 ],
 "metadata": {
  "kernelspec": {
   "display_name": "Python 3 (ipykernel)",
   "language": "python",
   "name": "python3"
  },
  "language_info": {
   "codemirror_mode": {
    "name": "ipython",
    "version": 3
   },
   "file_extension": ".py",
   "mimetype": "text/x-python",
   "name": "python",
   "nbconvert_exporter": "python",
   "pygments_lexer": "ipython3",
   "version": "3.10.0"
  }
 },
 "nbformat": 4,
 "nbformat_minor": 5
}
