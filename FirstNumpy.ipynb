{
 "cells": [
  {
   "cell_type": "code",
   "execution_count": 5,
   "id": "194fba67",
   "metadata": {},
   "outputs": [],
   "source": [
    "import numpy as np"
   ]
  },
  {
   "cell_type": "code",
   "execution_count": 6,
   "id": "ba5a012b",
   "metadata": {},
   "outputs": [
    {
     "data": {
      "text/plain": [
       "array([[  1, 111,   4],\n",
       "       [  1,   3,   5]])"
      ]
     },
     "metadata": {},
     "output_type": "display_data"
    },
    {
     "data": {
      "text/plain": [
       "array([[  1, 111,   4],\n",
       "       [  1,   3,   5]])"
      ]
     },
     "metadata": {},
     "output_type": "display_data"
    }
   ],
   "source": [
    "import numpy as np\n",
    "\n",
    "a = np.array([[1, 2, 4], [1, 3, 5]])\n",
    "a2 = a.view()   #shallow copy\n",
    "a3 = a.copy()   #deep copy\n",
    "\n",
    "a2[0][1] = 111\n",
    "display(a)\n",
    "\n",
    "a3[0][1] = 101\n",
    "display(a)"
   ]
  },
  {
   "cell_type": "code",
   "execution_count": 7,
   "id": "d758036e",
   "metadata": {},
   "outputs": [
    {
     "name": "stdout",
     "output_type": "stream",
     "text": [
      "[1 3 5]\n",
      "\n",
      "[2 4 6]\n",
      "\n",
      "[ 1  2  3  4  5  6  7  8  9 10]\n",
      "\n",
      "[  7  11 101 555]\n",
      "\n",
      "[ 3  6  9 12 15]\n"
     ]
    }
   ],
   "source": [
    "import numpy as np\n",
    "\n",
    "list = [1, 3, 5]\n",
    "a1 = np.array(list)\n",
    "\n",
    "a2 = np.array([2, 4, 6])\n",
    "a3 = np.array(range(1, 11))\n",
    "\n",
    "a4 = np.array((7, 11, 101, 555))\n",
    "\n",
    "a5 = np.array([3 * x for x in range(1, 6)])\n",
    "\n",
    "print(a1, a2, a3, a4, a5, sep='\\n\\n')"
   ]
  },
  {
   "cell_type": "code",
   "execution_count": 8,
   "id": "fe078b12",
   "metadata": {},
   "outputs": [
    {
     "name": "stdout",
     "output_type": "stream",
     "text": [
      "[1.  2.5 0. ]\n",
      "\n",
      "['1' 'True' 'Three' '4.5']\n",
      "\n",
      "[ 0  1 10]\n"
     ]
    }
   ],
   "source": [
    "import numpy as np\n",
    "\n",
    "a = np.array([1, 2.5, 0])\n",
    "\n",
    "b = np.array([1, True, 'Three', 4.5])\n",
    "\n",
    "c = np.array([False, True, 10])\n",
    "\n",
    "print(a, b, c, sep='\\n\\n')\n",
    "\n",
    "#print(a.dtype, b.dtype, c.dtype, sep='\\n')"
   ]
  },
  {
   "cell_type": "code",
   "execution_count": 9,
   "id": "599fd718",
   "metadata": {},
   "outputs": [
    {
     "name": "stdout",
     "output_type": "stream",
     "text": [
      "[1. 2. 3. 4. 5.]\n",
      "\n",
      "[1 3 5 9]\n",
      "\n",
      "[ True  True False  True  True  True]\n"
     ]
    },
    {
     "name": "stderr",
     "output_type": "stream",
     "text": [
      "C:\\Users\\samit\\AppData\\Local\\Temp\\ipykernel_24600\\239680300.py:7: DeprecationWarning: `np.bool` is a deprecated alias for the builtin `bool`. To silence this warning, use `bool` by itself. Doing this will not modify any behavior and is safe. If you specifically wanted the numpy scalar type, use `np.bool_` here.\n",
      "Deprecated in NumPy 1.20; for more details and guidance: https://numpy.org/devdocs/release/1.20.0-notes.html#deprecations\n",
      "  c = np.array([-5, -1, 0, 1, 1.5, 10], dtype=np.bool)\n"
     ]
    }
   ],
   "source": [
    "import numpy as np\n",
    "\n",
    "a = np.array([1, 2, 3, 4, 5], dtype=float)\n",
    "\n",
    "b = np.array([1.2, 3.141, 5.55, 9.99], dtype='i')\n",
    "\n",
    "c = np.array([-5, -1, 0, 1, 1.5, 10], dtype=np.bool)\n",
    "\n",
    "print(a, b, c, sep='\\n\\n')"
   ]
  },
  {
   "cell_type": "code",
   "execution_count": 10,
   "id": "31f26400",
   "metadata": {},
   "outputs": [
    {
     "name": "stdout",
     "output_type": "stream",
     "text": [
      "[1 2 3 4 5 6 7 8 9]\n",
      "\n",
      "[1 3 5 7 9]\n",
      "\n",
      "[1.  3.5 6.  8.5]\n",
      "\n",
      "[10  7  4]\n",
      "\n",
      "[-10.5  -7.   -3.5   0.    3.5]\n",
      "\n",
      "[]\n"
     ]
    }
   ],
   "source": [
    "import numpy as np\n",
    "\n",
    "a = np.arange(1, 10)\n",
    "b = np.arange(1, 10, 2)\n",
    "c = np.arange(1, 10, 2.5)\n",
    "d = np.arange(10, 1, -3)\n",
    "e = np.arange(-10.5, 5.5, 3.5)\n",
    "f = np.arange(100, 1, 10)\n",
    "\n",
    "print(a, b, c, d, e, f, sep='\\n\\n')"
   ]
  },
  {
   "cell_type": "code",
   "execution_count": 11,
   "id": "49bbd841",
   "metadata": {},
   "outputs": [
    {
     "name": "stdout",
     "output_type": "stream",
     "text": [
      "[ 1.  4.  7. 10.]\n",
      "\n",
      "[ 1.   2.8  4.6  6.4  8.2 10. ]\n",
      "\n",
      "[ 1  4  7 10]\n",
      "\n",
      "[-10.  -6.  -2.   2.   6.  10.]\n",
      "\n",
      "[10.5   8.25  6.    3.75  1.5 ]\n"
     ]
    }
   ],
   "source": [
    "import numpy as np\n",
    "\n",
    "a1 = np.linspace(1, 10, 4)\n",
    "a2 = np.linspace(1, 10, 6)\n",
    "a3 = np.linspace(1, 10, 4, dtype=int)\n",
    "a4 = np.linspace(-10, 10, 6)\n",
    "a5 = np.linspace(10.5, 1.5, 5)\n",
    "\n",
    "print(a1, a2, a3, a4, a5, sep='\\n\\n')"
   ]
  },
  {
   "cell_type": "code",
   "execution_count": null,
   "id": "2673d73c",
   "metadata": {},
   "outputs": [],
   "source": []
  }
 ],
 "metadata": {
  "kernelspec": {
   "display_name": "Python 3 (ipykernel)",
   "language": "python",
   "name": "python3"
  },
  "language_info": {
   "codemirror_mode": {
    "name": "ipython",
    "version": 3
   },
   "file_extension": ".py",
   "mimetype": "text/x-python",
   "name": "python",
   "nbconvert_exporter": "python",
   "pygments_lexer": "ipython3",
   "version": "3.10.0"
  }
 },
 "nbformat": 4,
 "nbformat_minor": 5
}
