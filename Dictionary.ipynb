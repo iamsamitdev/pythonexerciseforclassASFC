{
 "cells": [
  {
   "cell_type": "code",
   "execution_count": 2,
   "id": "a5c1039b",
   "metadata": {},
   "outputs": [
    {
     "data": {
      "text/plain": [
       "{'th': 'Thailand', 'jp': 'Japan', 'kr': 'Korea'}"
      ]
     },
     "metadata": {},
     "output_type": "display_data"
    },
    {
     "name": "stdout",
     "output_type": "stream",
     "text": [
      "odd : 1 3 5 7 9 \n",
      "even : 2 4 6 8 \n"
     ]
    }
   ],
   "source": [
    "countries = {'th':'Thailand', 'jp':'Japan', 'kr':'Korea'}\n",
    "display(countries)\n",
    "\n",
    "odd_evens = {'odd':[1, 3, 5, 7 ,9], 'even':[2, 4, 6, 8]}\n",
    "for key in odd_evens:\n",
    "    print(key, ': ', end='')\n",
    "    for v in odd_evens[key]:\n",
    "        print(v, '', end='')\n",
    "\n",
    "    print()"
   ]
  }
 ],
 "metadata": {
  "kernelspec": {
   "display_name": "Python 3 (ipykernel)",
   "language": "python",
   "name": "python3"
  },
  "language_info": {
   "codemirror_mode": {
    "name": "ipython",
    "version": 3
   },
   "file_extension": ".py",
   "mimetype": "text/x-python",
   "name": "python",
   "nbconvert_exporter": "python",
   "pygments_lexer": "ipython3",
   "version": "3.10.0"
  }
 },
 "nbformat": 4,
 "nbformat_minor": 5
}
