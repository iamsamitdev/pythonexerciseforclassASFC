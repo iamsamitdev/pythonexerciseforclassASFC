{
 "cells": [
  {
   "cell_type": "code",
   "execution_count": null,
   "id": "5eeac08c",
   "metadata": {},
   "outputs": [],
   "source": [
    "pip install beautifulsoup4 requests lxml"
   ]
  },
  {
   "cell_type": "code",
   "execution_count": null,
   "id": "26a2ed01",
   "metadata": {},
   "outputs": [],
   "source": [
    "pip list"
   ]
  },
  {
   "cell_type": "code",
   "execution_count": 2,
   "id": "3c691dd6",
   "metadata": {},
   "outputs": [],
   "source": [
    "from bs4 import BeautifulSoup\n",
    "import requests\n",
    "import pandas as pd"
   ]
  },
  {
   "cell_type": "code",
   "execution_count": 3,
   "id": "ca7af155",
   "metadata": {},
   "outputs": [
    {
     "data": {
      "text/plain": [
       "<Response [200]>"
      ]
     },
     "execution_count": 3,
     "metadata": {},
     "output_type": "execute_result"
    }
   ],
   "source": [
    "requests.get(\"http://localhost:3700/blog.html\")"
   ]
  },
  {
   "cell_type": "code",
   "execution_count": 4,
   "id": "b0dcdc4b",
   "metadata": {},
   "outputs": [
    {
     "data": {
      "text/plain": [
       "'<!DOCTYPE html>\\r\\n<html lang=\"en\">\\r\\n<head>\\r\\n    <meta charset=\"UTF-8\">\\r\\n    <meta http-equiv=\"X-UA-Compatible\" content=\"IE=edge\">\\r\\n    <meta name=\"viewport\" content=\"width=device-width, initial-scale=1.0\">\\r\\n    <title>My Sample Blog</title>\\r\\n</head>\\r\\n<body>\\r\\n    <h1>Sample Blogs</h1>\\r\\n    <div class=\"blog_posts\">\\r\\n        <h2>Blog Post #1</h2>\\r\\n        <p>The United States, United Kingdom, Ukraine and several European Union member states have fiercely opposed the pipeline ever since it was first announced in 2015, warning the project would boost Moscow\\'s influence in Europe.\\r\\n\\r\\n        Kristine Berzina, a senior fellow at the German Marshall Fund of the United States, a nonpartisan research center, said Moscow has benefited from the drama around the pipeline. \"Everything about the Nord Stream 2 pipeline has been a victory for Russia,\" she told CNN.\\r\\n        </p>\\r\\n    </div>\\r\\n    <a href=\"/post/1\">Read More</a>\\r\\n    <hr>\\r\\n\\r\\n    <div class=\"blog_posts\">\\r\\n        <h2>Blog Post #2</h2>\\r\\n        <p>Elon Musk\\'s holdings of Tesla stock have lost about $30 billion this year through Monday\\'s close, as the stock slid 12%.But the next 12 months could be the most lucrative ever for Musk. If analysts are correct, Tesla will report strong financial results this year that will net Musk billions of dollars in stock awards.\\r\\n\\r\\n        Musk doesn\\'t receive any base salary or cash bonus from Tesla. Instead, he receives stock options based on the company hitting certain financial and market value targets. His 2018 pay package allocated 101 million split-adjusted shares that would be awarded to Musk in 12 equal tranches, as the company hit those benchmarks.\\r\\n        </p>\\r\\n    </div>\\r\\n    <a href=\"/post/2\">Read More</a>\\r\\n    <hr>\\r\\n\\r\\n    <div class=\"blog_posts\">\\r\\n        <h2>Blog Post #3</h2>\\r\\n        <p>The 30-year-old from the Czech Republic stripped off last Friday afternoon, dumping her belongings on the monument -- which pays homage to Italy\\'s war heroes -- as she went for a swim in the freezing lagoon, and then lay beside the statue of a murdered female partisan to pose for photos.\\r\\n\\r\\n        Dedicated to the women who gave their lives in their fight for freedom under fascism, it consists of a bronze statue of a murdered partisan, half in the water, half on a platform of bronze and concrete. Placed near the gardens of the Biennale, it is one of relatively few statues dedicated to women in Italy.\\r\\n        </p>\\r\\n    </div>\\r\\n    <a href=\"/post/3\">Read More</a>\\r\\n    <hr>\\r\\n\\r\\n    <div class=\"blog_posts\">\\r\\n        <h2>Blog Post #4</h2>\\r\\n        <p>Munn, the National Asian Pacific American Women\\'s Forum, and Asian-American beauty brand Cocokind had gathered to discuss efforts to stop discrimination against the AAPI community. They wrote about the incident on their respective Instagram accounts.\\r\\n\\r\\n        While it disrupted our conversation, we later resumed because these malicious acts will not stop the conversation,\" both Cocokind and the NAPWF wrote. \"We started our event with beautifully-spirited and powerful members of the AAPI community talking about our experiences and using our voices, and we will continue..\\r\\n        \\r\\n        </p>\\r\\n    </div>\\r\\n    <a href=\"/post/4\">Read More</a>\\r\\n    <hr>\\r\\n    Visitors Count\\r\\n    <table style=\"border:1px solid black;\" class=\"visitors_table\">\\r\\n        <thead>\\r\\n            <tr>\\r\\n                <th>Country</th>\\r\\n                <th>Count</th>\\r\\n            </tr>\\r\\n        </thead>\\r\\n        <tbody>\\r\\n            <tr>\\r\\n                <td>India</td>\\r\\n                <td>5400</td>\\r\\n            </tr>\\r\\n            <tr>\\r\\n                <td>USA</td>\\r\\n                <td>1500</td>\\r\\n            </tr>\\r\\n            <tr>\\r\\n                <td>UK</td>\\r\\n                <td>1200</td>\\r\\n            </tr>\\r\\n        </tbody>\\r\\n    </table>\\r\\n\\r\\n    <p>Lorem ipsum dolor sit amet consectetur adipisicing elit. Nostrum dolor, officiis enim laudantium saepe amet repellendus obcaecati fuga magnam praesentium. Odio adipisci nemo tempora tempore voluptate libero quia ut maiores?</p>\\r\\n\\r\\n    Global Count\\r\\n    <table style=\"border:1px solid black;\" class=\"visitors_table\">\\r\\n        <thead>\\r\\n            <tr>\\r\\n                <th>Country</th>\\r\\n                <th>Count</th>\\r\\n            </tr>\\r\\n        </thead>\\r\\n        <tbody>\\r\\n            <tr>\\r\\n                <td>Thailand</td>\\r\\n                <td>500</td>\\r\\n            </tr>\\r\\n            <tr>\\r\\n                <td>China</td>\\r\\n                <td>25000</td>\\r\\n            </tr>\\r\\n            <tr>\\r\\n                <td>Indonesia</td>\\r\\n                <td>6500</td>\\r\\n            </tr>\\r\\n        </tbody>\\r\\n    </table>\\r\\n    <p>We Publish Blogs Everyday</p>\\r\\n<!-- Code injected by live-server -->\\n<script type=\"text/javascript\">\\n\\t// <![CDATA[  <-- For SVG support\\n\\tif (\\'WebSocket\\' in window) {\\n\\t\\t(function () {\\n\\t\\t\\tfunction refreshCSS() {\\n\\t\\t\\t\\tvar sheets = [].slice.call(document.getElementsByTagName(\"link\"));\\n\\t\\t\\t\\tvar head = document.getElementsByTagName(\"head\")[0];\\n\\t\\t\\t\\tfor (var i = 0; i < sheets.length; ++i) {\\n\\t\\t\\t\\t\\tvar elem = sheets[i];\\n\\t\\t\\t\\t\\tvar parent = elem.parentElement || head;\\n\\t\\t\\t\\t\\tparent.removeChild(elem);\\n\\t\\t\\t\\t\\tvar rel = elem.rel;\\n\\t\\t\\t\\t\\tif (elem.href && typeof rel != \"string\" || rel.length == 0 || rel.toLowerCase() == \"stylesheet\") {\\n\\t\\t\\t\\t\\t\\tvar url = elem.href.replace(/(&|\\\\?)_cacheOverride=\\\\d+/, \\'\\');\\n\\t\\t\\t\\t\\t\\telem.href = url + (url.indexOf(\\'?\\') >= 0 ? \\'&\\' : \\'?\\') + \\'_cacheOverride=\\' + (new Date().valueOf());\\n\\t\\t\\t\\t\\t}\\n\\t\\t\\t\\t\\tparent.appendChild(elem);\\n\\t\\t\\t\\t}\\n\\t\\t\\t}\\n\\t\\t\\tvar protocol = window.location.protocol === \\'http:\\' ? \\'ws://\\' : \\'wss://\\';\\n\\t\\t\\tvar address = protocol + window.location.host + window.location.pathname + \\'/ws\\';\\n\\t\\t\\tvar socket = new WebSocket(address);\\n\\t\\t\\tsocket.onmessage = function (msg) {\\n\\t\\t\\t\\tif (msg.data == \\'reload\\') window.location.reload();\\n\\t\\t\\t\\telse if (msg.data == \\'refreshcss\\') refreshCSS();\\n\\t\\t\\t};\\n\\t\\t\\tif (sessionStorage && !sessionStorage.getItem(\\'IsThisFirstTime_Log_From_LiveServer\\')) {\\n\\t\\t\\t\\tconsole.log(\\'Live reload enabled.\\');\\n\\t\\t\\t\\tsessionStorage.setItem(\\'IsThisFirstTime_Log_From_LiveServer\\', true);\\n\\t\\t\\t}\\n\\t\\t})();\\n\\t}\\n\\telse {\\n\\t\\tconsole.error(\\'Upgrade your browser. This Browser is NOT supported WebSocket for Live-Reloading.\\');\\n\\t}\\n\\t// ]]>\\n</script></body>\\r\\n</html>'"
      ]
     },
     "execution_count": 4,
     "metadata": {},
     "output_type": "execute_result"
    }
   ],
   "source": [
    "requests.get(\"http://localhost:3700/blog.html\").text"
   ]
  },
  {
   "cell_type": "code",
   "execution_count": 5,
   "id": "1684bf6a",
   "metadata": {},
   "outputs": [],
   "source": [
    "response = requests.get(\"http://localhost:3700/blog.html\").text"
   ]
  },
  {
   "cell_type": "code",
   "execution_count": 6,
   "id": "5856a2a8",
   "metadata": {},
   "outputs": [],
   "source": [
    "soup = BeautifulSoup(response, 'lxml')"
   ]
  },
  {
   "cell_type": "code",
   "execution_count": 7,
   "id": "e4974c8e",
   "metadata": {},
   "outputs": [
    {
     "data": {
      "text/plain": [
       "<!DOCTYPE html>\n",
       "<html lang=\"en\">\n",
       "<head>\n",
       "<meta charset=\"utf-8\"/>\n",
       "<meta content=\"IE=edge\" http-equiv=\"X-UA-Compatible\"/>\n",
       "<meta content=\"width=device-width, initial-scale=1.0\" name=\"viewport\"/>\n",
       "<title>My Sample Blog</title>\n",
       "</head>\n",
       "<body>\n",
       "<h1>Sample Blogs</h1>\n",
       "<div class=\"blog_posts\">\n",
       "<h2>Blog Post #1</h2>\n",
       "<p>The United States, United Kingdom, Ukraine and several European Union member states have fiercely opposed the pipeline ever since it was first announced in 2015, warning the project would boost Moscow's influence in Europe.\n",
       "\n",
       "        Kristine Berzina, a senior fellow at the German Marshall Fund of the United States, a nonpartisan research center, said Moscow has benefited from the drama around the pipeline. \"Everything about the Nord Stream 2 pipeline has been a victory for Russia,\" she told CNN.\n",
       "        </p>\n",
       "</div>\n",
       "<a href=\"/post/1\">Read More</a>\n",
       "<hr/>\n",
       "<div class=\"blog_posts\">\n",
       "<h2>Blog Post #2</h2>\n",
       "<p>Elon Musk's holdings of Tesla stock have lost about $30 billion this year through Monday's close, as the stock slid 12%.But the next 12 months could be the most lucrative ever for Musk. If analysts are correct, Tesla will report strong financial results this year that will net Musk billions of dollars in stock awards.\n",
       "\n",
       "        Musk doesn't receive any base salary or cash bonus from Tesla. Instead, he receives stock options based on the company hitting certain financial and market value targets. His 2018 pay package allocated 101 million split-adjusted shares that would be awarded to Musk in 12 equal tranches, as the company hit those benchmarks.\n",
       "        </p>\n",
       "</div>\n",
       "<a href=\"/post/2\">Read More</a>\n",
       "<hr/>\n",
       "<div class=\"blog_posts\">\n",
       "<h2>Blog Post #3</h2>\n",
       "<p>The 30-year-old from the Czech Republic stripped off last Friday afternoon, dumping her belongings on the monument -- which pays homage to Italy's war heroes -- as she went for a swim in the freezing lagoon, and then lay beside the statue of a murdered female partisan to pose for photos.\n",
       "\n",
       "        Dedicated to the women who gave their lives in their fight for freedom under fascism, it consists of a bronze statue of a murdered partisan, half in the water, half on a platform of bronze and concrete. Placed near the gardens of the Biennale, it is one of relatively few statues dedicated to women in Italy.\n",
       "        </p>\n",
       "</div>\n",
       "<a href=\"/post/3\">Read More</a>\n",
       "<hr/>\n",
       "<div class=\"blog_posts\">\n",
       "<h2>Blog Post #4</h2>\n",
       "<p>Munn, the National Asian Pacific American Women's Forum, and Asian-American beauty brand Cocokind had gathered to discuss efforts to stop discrimination against the AAPI community. They wrote about the incident on their respective Instagram accounts.\n",
       "\n",
       "        While it disrupted our conversation, we later resumed because these malicious acts will not stop the conversation,\" both Cocokind and the NAPWF wrote. \"We started our event with beautifully-spirited and powerful members of the AAPI community talking about our experiences and using our voices, and we will continue..\n",
       "        \n",
       "        </p>\n",
       "</div>\n",
       "<a href=\"/post/4\">Read More</a>\n",
       "<hr/>\n",
       "    Visitors Count\n",
       "    <table class=\"visitors_table\" style=\"border:1px solid black;\">\n",
       "<thead>\n",
       "<tr>\n",
       "<th>Country</th>\n",
       "<th>Count</th>\n",
       "</tr>\n",
       "</thead>\n",
       "<tbody>\n",
       "<tr>\n",
       "<td>India</td>\n",
       "<td>5400</td>\n",
       "</tr>\n",
       "<tr>\n",
       "<td>USA</td>\n",
       "<td>1500</td>\n",
       "</tr>\n",
       "<tr>\n",
       "<td>UK</td>\n",
       "<td>1200</td>\n",
       "</tr>\n",
       "</tbody>\n",
       "</table>\n",
       "<p>Lorem ipsum dolor sit amet consectetur adipisicing elit. Nostrum dolor, officiis enim laudantium saepe amet repellendus obcaecati fuga magnam praesentium. Odio adipisci nemo tempora tempore voluptate libero quia ut maiores?</p>\n",
       "\n",
       "    Global Count\n",
       "    <table class=\"visitors_table\" style=\"border:1px solid black;\">\n",
       "<thead>\n",
       "<tr>\n",
       "<th>Country</th>\n",
       "<th>Count</th>\n",
       "</tr>\n",
       "</thead>\n",
       "<tbody>\n",
       "<tr>\n",
       "<td>Thailand</td>\n",
       "<td>500</td>\n",
       "</tr>\n",
       "<tr>\n",
       "<td>China</td>\n",
       "<td>25000</td>\n",
       "</tr>\n",
       "<tr>\n",
       "<td>Indonesia</td>\n",
       "<td>6500</td>\n",
       "</tr>\n",
       "</tbody>\n",
       "</table>\n",
       "<p>We Publish Blogs Everyday</p>\n",
       "<!-- Code injected by live-server -->\n",
       "<script type=\"text/javascript\">\n",
       "\t// <![CDATA[  <-- For SVG support\n",
       "\tif ('WebSocket' in window) {\n",
       "\t\t(function () {\n",
       "\t\t\tfunction refreshCSS() {\n",
       "\t\t\t\tvar sheets = [].slice.call(document.getElementsByTagName(\"link\"));\n",
       "\t\t\t\tvar head = document.getElementsByTagName(\"head\")[0];\n",
       "\t\t\t\tfor (var i = 0; i < sheets.length; ++i) {\n",
       "\t\t\t\t\tvar elem = sheets[i];\n",
       "\t\t\t\t\tvar parent = elem.parentElement || head;\n",
       "\t\t\t\t\tparent.removeChild(elem);\n",
       "\t\t\t\t\tvar rel = elem.rel;\n",
       "\t\t\t\t\tif (elem.href && typeof rel != \"string\" || rel.length == 0 || rel.toLowerCase() == \"stylesheet\") {\n",
       "\t\t\t\t\t\tvar url = elem.href.replace(/(&|\\?)_cacheOverride=\\d+/, '');\n",
       "\t\t\t\t\t\telem.href = url + (url.indexOf('?') >= 0 ? '&' : '?') + '_cacheOverride=' + (new Date().valueOf());\n",
       "\t\t\t\t\t}\n",
       "\t\t\t\t\tparent.appendChild(elem);\n",
       "\t\t\t\t}\n",
       "\t\t\t}\n",
       "\t\t\tvar protocol = window.location.protocol === 'http:' ? 'ws://' : 'wss://';\n",
       "\t\t\tvar address = protocol + window.location.host + window.location.pathname + '/ws';\n",
       "\t\t\tvar socket = new WebSocket(address);\n",
       "\t\t\tsocket.onmessage = function (msg) {\n",
       "\t\t\t\tif (msg.data == 'reload') window.location.reload();\n",
       "\t\t\t\telse if (msg.data == 'refreshcss') refreshCSS();\n",
       "\t\t\t};\n",
       "\t\t\tif (sessionStorage && !sessionStorage.getItem('IsThisFirstTime_Log_From_LiveServer')) {\n",
       "\t\t\t\tconsole.log('Live reload enabled.');\n",
       "\t\t\t\tsessionStorage.setItem('IsThisFirstTime_Log_From_LiveServer', true);\n",
       "\t\t\t}\n",
       "\t\t})();\n",
       "\t}\n",
       "\telse {\n",
       "\t\tconsole.error('Upgrade your browser. This Browser is NOT supported WebSocket for Live-Reloading.');\n",
       "\t}\n",
       "\t// ]]>\n",
       "</script></body>\n",
       "</html>"
      ]
     },
     "execution_count": 7,
     "metadata": {},
     "output_type": "execute_result"
    }
   ],
   "source": [
    "soup"
   ]
  },
  {
   "cell_type": "code",
   "execution_count": 8,
   "id": "ee41cb5b",
   "metadata": {},
   "outputs": [
    {
     "name": "stdout",
     "output_type": "stream",
     "text": [
      "<!DOCTYPE html>\n",
      "<html lang=\"en\">\n",
      " <head>\n",
      "  <meta charset=\"utf-8\"/>\n",
      "  <meta content=\"IE=edge\" http-equiv=\"X-UA-Compatible\"/>\n",
      "  <meta content=\"width=device-width, initial-scale=1.0\" name=\"viewport\"/>\n",
      "  <title>\n",
      "   My Sample Blog\n",
      "  </title>\n",
      " </head>\n",
      " <body>\n",
      "  <h1>\n",
      "   Sample Blogs\n",
      "  </h1>\n",
      "  <div class=\"blog_posts\">\n",
      "   <h2>\n",
      "    Blog Post #1\n",
      "   </h2>\n",
      "   <p>\n",
      "    The United States, United Kingdom, Ukraine and several European Union member states have fiercely opposed the pipeline ever since it was first announced in 2015, warning the project would boost Moscow's influence in Europe.\r\n",
      "\r\n",
      "        Kristine Berzina, a senior fellow at the German Marshall Fund of the United States, a nonpartisan research center, said Moscow has benefited from the drama around the pipeline. \"Everything about the Nord Stream 2 pipeline has been a victory for Russia,\" she told CNN.\n",
      "   </p>\n",
      "  </div>\n",
      "  <a href=\"/post/1\">\n",
      "   Read More\n",
      "  </a>\n",
      "  <hr/>\n",
      "  <div class=\"blog_posts\">\n",
      "   <h2>\n",
      "    Blog Post #2\n",
      "   </h2>\n",
      "   <p>\n",
      "    Elon Musk's holdings of Tesla stock have lost about $30 billion this year through Monday's close, as the stock slid 12%.But the next 12 months could be the most lucrative ever for Musk. If analysts are correct, Tesla will report strong financial results this year that will net Musk billions of dollars in stock awards.\r\n",
      "\r\n",
      "        Musk doesn't receive any base salary or cash bonus from Tesla. Instead, he receives stock options based on the company hitting certain financial and market value targets. His 2018 pay package allocated 101 million split-adjusted shares that would be awarded to Musk in 12 equal tranches, as the company hit those benchmarks.\n",
      "   </p>\n",
      "  </div>\n",
      "  <a href=\"/post/2\">\n",
      "   Read More\n",
      "  </a>\n",
      "  <hr/>\n",
      "  <div class=\"blog_posts\">\n",
      "   <h2>\n",
      "    Blog Post #3\n",
      "   </h2>\n",
      "   <p>\n",
      "    The 30-year-old from the Czech Republic stripped off last Friday afternoon, dumping her belongings on the monument -- which pays homage to Italy's war heroes -- as she went for a swim in the freezing lagoon, and then lay beside the statue of a murdered female partisan to pose for photos.\r\n",
      "\r\n",
      "        Dedicated to the women who gave their lives in their fight for freedom under fascism, it consists of a bronze statue of a murdered partisan, half in the water, half on a platform of bronze and concrete. Placed near the gardens of the Biennale, it is one of relatively few statues dedicated to women in Italy.\n",
      "   </p>\n",
      "  </div>\n",
      "  <a href=\"/post/3\">\n",
      "   Read More\n",
      "  </a>\n",
      "  <hr/>\n",
      "  <div class=\"blog_posts\">\n",
      "   <h2>\n",
      "    Blog Post #4\n",
      "   </h2>\n",
      "   <p>\n",
      "    Munn, the National Asian Pacific American Women's Forum, and Asian-American beauty brand Cocokind had gathered to discuss efforts to stop discrimination against the AAPI community. They wrote about the incident on their respective Instagram accounts.\r\n",
      "\r\n",
      "        While it disrupted our conversation, we later resumed because these malicious acts will not stop the conversation,\" both Cocokind and the NAPWF wrote. \"We started our event with beautifully-spirited and powerful members of the AAPI community talking about our experiences and using our voices, and we will continue..\n",
      "   </p>\n",
      "  </div>\n",
      "  <a href=\"/post/4\">\n",
      "   Read More\n",
      "  </a>\n",
      "  <hr/>\n",
      "  Visitors Count\n",
      "  <table class=\"visitors_table\" style=\"border:1px solid black;\">\n",
      "   <thead>\n",
      "    <tr>\n",
      "     <th>\n",
      "      Country\n",
      "     </th>\n",
      "     <th>\n",
      "      Count\n",
      "     </th>\n",
      "    </tr>\n",
      "   </thead>\n",
      "   <tbody>\n",
      "    <tr>\n",
      "     <td>\n",
      "      India\n",
      "     </td>\n",
      "     <td>\n",
      "      5400\n",
      "     </td>\n",
      "    </tr>\n",
      "    <tr>\n",
      "     <td>\n",
      "      USA\n",
      "     </td>\n",
      "     <td>\n",
      "      1500\n",
      "     </td>\n",
      "    </tr>\n",
      "    <tr>\n",
      "     <td>\n",
      "      UK\n",
      "     </td>\n",
      "     <td>\n",
      "      1200\n",
      "     </td>\n",
      "    </tr>\n",
      "   </tbody>\n",
      "  </table>\n",
      "  <p>\n",
      "   Lorem ipsum dolor sit amet consectetur adipisicing elit. Nostrum dolor, officiis enim laudantium saepe amet repellendus obcaecati fuga magnam praesentium. Odio adipisci nemo tempora tempore voluptate libero quia ut maiores?\n",
      "  </p>\n",
      "  Global Count\n",
      "  <table class=\"visitors_table\" style=\"border:1px solid black;\">\n",
      "   <thead>\n",
      "    <tr>\n",
      "     <th>\n",
      "      Country\n",
      "     </th>\n",
      "     <th>\n",
      "      Count\n",
      "     </th>\n",
      "    </tr>\n",
      "   </thead>\n",
      "   <tbody>\n",
      "    <tr>\n",
      "     <td>\n",
      "      Thailand\n",
      "     </td>\n",
      "     <td>\n",
      "      500\n",
      "     </td>\n",
      "    </tr>\n",
      "    <tr>\n",
      "     <td>\n",
      "      China\n",
      "     </td>\n",
      "     <td>\n",
      "      25000\n",
      "     </td>\n",
      "    </tr>\n",
      "    <tr>\n",
      "     <td>\n",
      "      Indonesia\n",
      "     </td>\n",
      "     <td>\n",
      "      6500\n",
      "     </td>\n",
      "    </tr>\n",
      "   </tbody>\n",
      "  </table>\n",
      "  <p>\n",
      "   We Publish Blogs Everyday\n",
      "  </p>\n",
      "  <!-- Code injected by live-server -->\n",
      "  <script type=\"text/javascript\">\n",
      "   // <![CDATA[  <-- For SVG support\n",
      "\tif ('WebSocket' in window) {\n",
      "\t\t(function () {\n",
      "\t\t\tfunction refreshCSS() {\n",
      "\t\t\t\tvar sheets = [].slice.call(document.getElementsByTagName(\"link\"));\n",
      "\t\t\t\tvar head = document.getElementsByTagName(\"head\")[0];\n",
      "\t\t\t\tfor (var i = 0; i < sheets.length; ++i) {\n",
      "\t\t\t\t\tvar elem = sheets[i];\n",
      "\t\t\t\t\tvar parent = elem.parentElement || head;\n",
      "\t\t\t\t\tparent.removeChild(elem);\n",
      "\t\t\t\t\tvar rel = elem.rel;\n",
      "\t\t\t\t\tif (elem.href && typeof rel != \"string\" || rel.length == 0 || rel.toLowerCase() == \"stylesheet\") {\n",
      "\t\t\t\t\t\tvar url = elem.href.replace(/(&|\\?)_cacheOverride=\\d+/, '');\n",
      "\t\t\t\t\t\telem.href = url + (url.indexOf('?') >= 0 ? '&' : '?') + '_cacheOverride=' + (new Date().valueOf());\n",
      "\t\t\t\t\t}\n",
      "\t\t\t\t\tparent.appendChild(elem);\n",
      "\t\t\t\t}\n",
      "\t\t\t}\n",
      "\t\t\tvar protocol = window.location.protocol === 'http:' ? 'ws://' : 'wss://';\n",
      "\t\t\tvar address = protocol + window.location.host + window.location.pathname + '/ws';\n",
      "\t\t\tvar socket = new WebSocket(address);\n",
      "\t\t\tsocket.onmessage = function (msg) {\n",
      "\t\t\t\tif (msg.data == 'reload') window.location.reload();\n",
      "\t\t\t\telse if (msg.data == 'refreshcss') refreshCSS();\n",
      "\t\t\t};\n",
      "\t\t\tif (sessionStorage && !sessionStorage.getItem('IsThisFirstTime_Log_From_LiveServer')) {\n",
      "\t\t\t\tconsole.log('Live reload enabled.');\n",
      "\t\t\t\tsessionStorage.setItem('IsThisFirstTime_Log_From_LiveServer', true);\n",
      "\t\t\t}\n",
      "\t\t})();\n",
      "\t}\n",
      "\telse {\n",
      "\t\tconsole.error('Upgrade your browser. This Browser is NOT supported WebSocket for Live-Reloading.');\n",
      "\t}\n",
      "\t// ]]>\n",
      "  </script>\n",
      " </body>\n",
      "</html>\n"
     ]
    }
   ],
   "source": [
    "print(soup.prettify())"
   ]
  },
  {
   "cell_type": "code",
   "execution_count": 11,
   "id": "d4346e8a",
   "metadata": {},
   "outputs": [
    {
     "data": {
      "text/plain": [
       "<table class=\"visitors_table\" style=\"border:1px solid black;\">\n",
       "<thead>\n",
       "<tr>\n",
       "<th>Country</th>\n",
       "<th>Count</th>\n",
       "</tr>\n",
       "</thead>\n",
       "<tbody>\n",
       "<tr>\n",
       "<td>India</td>\n",
       "<td>5400</td>\n",
       "</tr>\n",
       "<tr>\n",
       "<td>USA</td>\n",
       "<td>1500</td>\n",
       "</tr>\n",
       "<tr>\n",
       "<td>UK</td>\n",
       "<td>1200</td>\n",
       "</tr>\n",
       "</tbody>\n",
       "</table>"
      ]
     },
     "execution_count": 11,
     "metadata": {},
     "output_type": "execute_result"
    }
   ],
   "source": [
    "soup.find(class_=\"visitors_table\")"
   ]
  },
  {
   "cell_type": "code",
   "execution_count": 13,
   "id": "03d2a35b",
   "metadata": {},
   "outputs": [
    {
     "data": {
      "text/plain": [
       "[<table class=\"visitors_table\" style=\"border:1px solid black;\">\n",
       " <thead>\n",
       " <tr>\n",
       " <th>Country</th>\n",
       " <th>Count</th>\n",
       " </tr>\n",
       " </thead>\n",
       " <tbody>\n",
       " <tr>\n",
       " <td>India</td>\n",
       " <td>5400</td>\n",
       " </tr>\n",
       " <tr>\n",
       " <td>USA</td>\n",
       " <td>1500</td>\n",
       " </tr>\n",
       " <tr>\n",
       " <td>UK</td>\n",
       " <td>1200</td>\n",
       " </tr>\n",
       " </tbody>\n",
       " </table>,\n",
       " <table class=\"visitors_table\" style=\"border:1px solid black;\">\n",
       " <thead>\n",
       " <tr>\n",
       " <th>Country</th>\n",
       " <th>Count</th>\n",
       " </tr>\n",
       " </thead>\n",
       " <tbody>\n",
       " <tr>\n",
       " <td>Thailand</td>\n",
       " <td>500</td>\n",
       " </tr>\n",
       " <tr>\n",
       " <td>China</td>\n",
       " <td>25000</td>\n",
       " </tr>\n",
       " <tr>\n",
       " <td>Indonesia</td>\n",
       " <td>6500</td>\n",
       " </tr>\n",
       " </tbody>\n",
       " </table>]"
      ]
     },
     "execution_count": 13,
     "metadata": {},
     "output_type": "execute_result"
    }
   ],
   "source": [
    "soup.find(\"table\")"
   ]
  },
  {
   "cell_type": "code",
   "execution_count": 14,
   "id": "50ae45db",
   "metadata": {},
   "outputs": [
    {
     "data": {
      "text/plain": [
       "[<table class=\"visitors_table\" style=\"border:1px solid black;\">\n",
       " <thead>\n",
       " <tr>\n",
       " <th>Country</th>\n",
       " <th>Count</th>\n",
       " </tr>\n",
       " </thead>\n",
       " <tbody>\n",
       " <tr>\n",
       " <td>India</td>\n",
       " <td>5400</td>\n",
       " </tr>\n",
       " <tr>\n",
       " <td>USA</td>\n",
       " <td>1500</td>\n",
       " </tr>\n",
       " <tr>\n",
       " <td>UK</td>\n",
       " <td>1200</td>\n",
       " </tr>\n",
       " </tbody>\n",
       " </table>,\n",
       " <table class=\"visitors_table\" style=\"border:1px solid black;\">\n",
       " <thead>\n",
       " <tr>\n",
       " <th>Country</th>\n",
       " <th>Count</th>\n",
       " </tr>\n",
       " </thead>\n",
       " <tbody>\n",
       " <tr>\n",
       " <td>Thailand</td>\n",
       " <td>500</td>\n",
       " </tr>\n",
       " <tr>\n",
       " <td>China</td>\n",
       " <td>25000</td>\n",
       " </tr>\n",
       " <tr>\n",
       " <td>Indonesia</td>\n",
       " <td>6500</td>\n",
       " </tr>\n",
       " </tbody>\n",
       " </table>]"
      ]
     },
     "execution_count": 14,
     "metadata": {},
     "output_type": "execute_result"
    }
   ],
   "source": [
    "soup.findAll(\"table\")"
   ]
  },
  {
   "cell_type": "code",
   "execution_count": 16,
   "id": "639b77ab",
   "metadata": {},
   "outputs": [
    {
     "data": {
      "text/plain": [
       "<table class=\"visitors_table\" style=\"border:1px solid black;\">\n",
       "<thead>\n",
       "<tr>\n",
       "<th>Country</th>\n",
       "<th>Count</th>\n",
       "</tr>\n",
       "</thead>\n",
       "<tbody>\n",
       "<tr>\n",
       "<td>Thailand</td>\n",
       "<td>500</td>\n",
       "</tr>\n",
       "<tr>\n",
       "<td>China</td>\n",
       "<td>25000</td>\n",
       "</tr>\n",
       "<tr>\n",
       "<td>Indonesia</td>\n",
       "<td>6500</td>\n",
       "</tr>\n",
       "</tbody>\n",
       "</table>"
      ]
     },
     "execution_count": 16,
     "metadata": {},
     "output_type": "execute_result"
    }
   ],
   "source": [
    "soup.findAll(\"table\")[1]"
   ]
  },
  {
   "cell_type": "code",
   "execution_count": 20,
   "id": "a7aa55cd",
   "metadata": {},
   "outputs": [],
   "source": [
    "table = soup.findAll(\"table\")[0]\n",
    "result = {}\n",
    "for rows in table.findAll('tr'):\n",
    "    data = rows.findAll('td')\n",
    "    for i in range(1, len(data), 2):\n",
    "        result[data[i - 1].text] = int(data[i].text)"
   ]
  },
  {
   "cell_type": "code",
   "execution_count": 21,
   "id": "4a832b23",
   "metadata": {},
   "outputs": [
    {
     "data": {
      "text/plain": [
       "{'India': 5400, 'USA': 1500, 'UK': 1200}"
      ]
     },
     "execution_count": 21,
     "metadata": {},
     "output_type": "execute_result"
    }
   ],
   "source": [
    "result"
   ]
  },
  {
   "cell_type": "code",
   "execution_count": 23,
   "id": "3a97a2d0",
   "metadata": {},
   "outputs": [],
   "source": [
    "df = pd.DataFrame({'data': result})"
   ]
  },
  {
   "cell_type": "code",
   "execution_count": 24,
   "id": "00940cb7",
   "metadata": {},
   "outputs": [
    {
     "data": {
      "text/plain": [
       "<AxesSubplot:>"
      ]
     },
     "execution_count": 24,
     "metadata": {},
     "output_type": "execute_result"
    },
    {
     "data": {
      "image/png": "[encoded data removed]",
      "text/plain": [
       "<Figure size 432x288 with 1 Axes>"
      ]
     },
     "metadata": {
      "needs_background": "light"
     },
     "output_type": "display_data"
    }
   ],
   "source": [
    "df.plot(kind=\"bar\")"
   ]
  },
  {
   "cell_type": "code",
   "execution_count": 27,
   "id": "26217ed5",
   "metadata": {},
   "outputs": [],
   "source": [
    "df.to_csv(\"export_csv\\\\visitor.csv\")"
   ]
  },
  {
   "cell_type": "code",
   "execution_count": 28,
   "id": "16afe3fc",
   "metadata": {},
   "outputs": [],
   "source": [
    "import re\n",
    "table = str(soup.find('table'))"
   ]
  },
  {
   "cell_type": "code",
   "execution_count": 30,
   "id": "7ad67cd3",
   "metadata": {},
   "outputs": [
    {
     "data": {
      "text/plain": [
       "['1', '5400', '1500', '1200']"
      ]
     },
     "execution_count": 30,
     "metadata": {},
     "output_type": "execute_result"
    }
   ],
   "source": [
    "re.findall(\"[0-9]+\", table)"
   ]
  }
 ],
 "metadata": {
  "kernelspec": {
   "display_name": "Python 3 (ipykernel)",
   "language": "python",
   "name": "python3"
  },
  "language_info": {
   "codemirror_mode": {
    "name": "ipython",
    "version": 3
   },
   "file_extension": ".py",
   "mimetype": "text/x-python",
   "name": "python",
   "nbconvert_exporter": "python",
   "pygments_lexer": "ipython3",
   "version": "3.10.0"
  }
 },
 "nbformat": 4,
 "nbformat_minor": 5
}
